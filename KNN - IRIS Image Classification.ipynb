{
 "cells": [
  {
   "cell_type": "code",
   "execution_count": 13,
   "metadata": {},
   "outputs": [],
   "source": [
    "import pandas as pd"
   ]
  },
  {
   "cell_type": "code",
   "execution_count": 14,
   "metadata": {},
   "outputs": [],
   "source": [
    "data = pd.read_csv(\"https://raw.githubusercontent.com/umangkejriwal1122/Machine-Learning/master/Data%20Sets/Iris.csv\")"
   ]
  },
  {
   "cell_type": "code",
   "execution_count": 15,
   "metadata": {},
   "outputs": [
    {
     "data": {
      "text/html": [
       "<div>\n",
       "<style scoped>\n",
       "    .dataframe tbody tr th:only-of-type {\n",
       "        vertical-align: middle;\n",
       "    }\n",
       "\n",
       "    .dataframe tbody tr th {\n",
       "        vertical-align: top;\n",
       "    }\n",
       "\n",
       "    .dataframe thead th {\n",
       "        text-align: right;\n",
       "    }\n",
       "</style>\n",
       "<table border=\"1\" class=\"dataframe\">\n",
       "  <thead>\n",
       "    <tr style=\"text-align: right;\">\n",
       "      <th></th>\n",
       "      <th>Id</th>\n",
       "      <th>SepalLengthCm</th>\n",
       "      <th>SepalWidthCm</th>\n",
       "      <th>PetalLengthCm</th>\n",
       "      <th>PetalWidthCm</th>\n",
       "      <th>Species</th>\n",
       "    </tr>\n",
       "  </thead>\n",
       "  <tbody>\n",
       "    <tr>\n",
       "      <th>0</th>\n",
       "      <td>1</td>\n",
       "      <td>5.1</td>\n",
       "      <td>3.5</td>\n",
       "      <td>1.4</td>\n",
       "      <td>0.2</td>\n",
       "      <td>Iris-setosa</td>\n",
       "    </tr>\n",
       "    <tr>\n",
       "      <th>1</th>\n",
       "      <td>2</td>\n",
       "      <td>4.9</td>\n",
       "      <td>3.0</td>\n",
       "      <td>1.4</td>\n",
       "      <td>0.2</td>\n",
       "      <td>Iris-setosa</td>\n",
       "    </tr>\n",
       "    <tr>\n",
       "      <th>2</th>\n",
       "      <td>3</td>\n",
       "      <td>4.7</td>\n",
       "      <td>3.2</td>\n",
       "      <td>1.3</td>\n",
       "      <td>0.2</td>\n",
       "      <td>Iris-setosa</td>\n",
       "    </tr>\n",
       "    <tr>\n",
       "      <th>3</th>\n",
       "      <td>4</td>\n",
       "      <td>4.6</td>\n",
       "      <td>3.1</td>\n",
       "      <td>1.5</td>\n",
       "      <td>0.2</td>\n",
       "      <td>Iris-setosa</td>\n",
       "    </tr>\n",
       "    <tr>\n",
       "      <th>4</th>\n",
       "      <td>5</td>\n",
       "      <td>5.0</td>\n",
       "      <td>3.6</td>\n",
       "      <td>1.4</td>\n",
       "      <td>0.2</td>\n",
       "      <td>Iris-setosa</td>\n",
       "    </tr>\n",
       "  </tbody>\n",
       "</table>\n",
       "</div>"
      ],
      "text/plain": [
       "   Id  SepalLengthCm  SepalWidthCm  PetalLengthCm  PetalWidthCm      Species\n",
       "0   1            5.1           3.5            1.4           0.2  Iris-setosa\n",
       "1   2            4.9           3.0            1.4           0.2  Iris-setosa\n",
       "2   3            4.7           3.2            1.3           0.2  Iris-setosa\n",
       "3   4            4.6           3.1            1.5           0.2  Iris-setosa\n",
       "4   5            5.0           3.6            1.4           0.2  Iris-setosa"
      ]
     },
     "execution_count": 15,
     "metadata": {},
     "output_type": "execute_result"
    }
   ],
   "source": [
    "data.head()"
   ]
  },
  {
   "cell_type": "code",
   "execution_count": 16,
   "metadata": {},
   "outputs": [],
   "source": [
    "x = data.iloc[:,1:5].values\n",
    "y = data.iloc[:,5].values"
   ]
  },
  {
   "cell_type": "code",
   "execution_count": 17,
   "metadata": {},
   "outputs": [
    {
     "data": {
      "text/plain": [
       "array([[5.1, 3.5, 1.4, 0.2],\n",
       "       [4.9, 3. , 1.4, 0.2],\n",
       "       [4.7, 3.2, 1.3, 0.2],\n",
       "       [4.6, 3.1, 1.5, 0.2],\n",
       "       [5. , 3.6, 1.4, 0.2],\n",
       "       [5.4, 3.9, 1.7, 0.4],\n",
       "       [4.6, 3.4, 1.4, 0.3],\n",
       "       [5. , 3.4, 1.5, 0.2],\n",
       "       [4.4, 2.9, 1.4, 0.2],\n",
       "       [4.9, 3.1, 1.5, 0.1],\n",
       "       [5.4, 3.7, 1.5, 0.2],\n",
       "       [4.8, 3.4, 1.6, 0.2],\n",
       "       [4.8, 3. , 1.4, 0.1],\n",
       "       [4.3, 3. , 1.1, 0.1],\n",
       "       [5.8, 4. , 1.2, 0.2],\n",
       "       [5.7, 4.4, 1.5, 0.4],\n",
       "       [5.4, 3.9, 1.3, 0.4],\n",
       "       [5.1, 3.5, 1.4, 0.3],\n",
       "       [5.7, 3.8, 1.7, 0.3],\n",
       "       [5.1, 3.8, 1.5, 0.3],\n",
       "       [5.4, 3.4, 1.7, 0.2],\n",
       "       [5.1, 3.7, 1.5, 0.4],\n",
       "       [4.6, 3.6, 1. , 0.2],\n",
       "       [5.1, 3.3, 1.7, 0.5],\n",
       "       [4.8, 3.4, 1.9, 0.2],\n",
       "       [5. , 3. , 1.6, 0.2],\n",
       "       [5. , 3.4, 1.6, 0.4],\n",
       "       [5.2, 3.5, 1.5, 0.2],\n",
       "       [5.2, 3.4, 1.4, 0.2],\n",
       "       [4.7, 3.2, 1.6, 0.2],\n",
       "       [4.8, 3.1, 1.6, 0.2],\n",
       "       [5.4, 3.4, 1.5, 0.4],\n",
       "       [5.2, 4.1, 1.5, 0.1],\n",
       "       [5.5, 4.2, 1.4, 0.2],\n",
       "       [4.9, 3.1, 1.5, 0.1],\n",
       "       [5. , 3.2, 1.2, 0.2],\n",
       "       [5.5, 3.5, 1.3, 0.2],\n",
       "       [4.9, 3.1, 1.5, 0.1],\n",
       "       [4.4, 3. , 1.3, 0.2],\n",
       "       [5.1, 3.4, 1.5, 0.2],\n",
       "       [5. , 3.5, 1.3, 0.3],\n",
       "       [4.5, 2.3, 1.3, 0.3],\n",
       "       [4.4, 3.2, 1.3, 0.2],\n",
       "       [5. , 3.5, 1.6, 0.6],\n",
       "       [5.1, 3.8, 1.9, 0.4],\n",
       "       [4.8, 3. , 1.4, 0.3],\n",
       "       [5.1, 3.8, 1.6, 0.2],\n",
       "       [4.6, 3.2, 1.4, 0.2],\n",
       "       [5.3, 3.7, 1.5, 0.2],\n",
       "       [5. , 3.3, 1.4, 0.2],\n",
       "       [7. , 3.2, 4.7, 1.4],\n",
       "       [6.4, 3.2, 4.5, 1.5],\n",
       "       [6.9, 3.1, 4.9, 1.5],\n",
       "       [5.5, 2.3, 4. , 1.3],\n",
       "       [6.5, 2.8, 4.6, 1.5],\n",
       "       [5.7, 2.8, 4.5, 1.3],\n",
       "       [6.3, 3.3, 4.7, 1.6],\n",
       "       [4.9, 2.4, 3.3, 1. ],\n",
       "       [6.6, 2.9, 4.6, 1.3],\n",
       "       [5.2, 2.7, 3.9, 1.4],\n",
       "       [5. , 2. , 3.5, 1. ],\n",
       "       [5.9, 3. , 4.2, 1.5],\n",
       "       [6. , 2.2, 4. , 1. ],\n",
       "       [6.1, 2.9, 4.7, 1.4],\n",
       "       [5.6, 2.9, 3.6, 1.3],\n",
       "       [6.7, 3.1, 4.4, 1.4],\n",
       "       [5.6, 3. , 4.5, 1.5],\n",
       "       [5.8, 2.7, 4.1, 1. ],\n",
       "       [6.2, 2.2, 4.5, 1.5],\n",
       "       [5.6, 2.5, 3.9, 1.1],\n",
       "       [5.9, 3.2, 4.8, 1.8],\n",
       "       [6.1, 2.8, 4. , 1.3],\n",
       "       [6.3, 2.5, 4.9, 1.5],\n",
       "       [6.1, 2.8, 4.7, 1.2],\n",
       "       [6.4, 2.9, 4.3, 1.3],\n",
       "       [6.6, 3. , 4.4, 1.4],\n",
       "       [6.8, 2.8, 4.8, 1.4],\n",
       "       [6.7, 3. , 5. , 1.7],\n",
       "       [6. , 2.9, 4.5, 1.5],\n",
       "       [5.7, 2.6, 3.5, 1. ],\n",
       "       [5.5, 2.4, 3.8, 1.1],\n",
       "       [5.5, 2.4, 3.7, 1. ],\n",
       "       [5.8, 2.7, 3.9, 1.2],\n",
       "       [6. , 2.7, 5.1, 1.6],\n",
       "       [5.4, 3. , 4.5, 1.5],\n",
       "       [6. , 3.4, 4.5, 1.6],\n",
       "       [6.7, 3.1, 4.7, 1.5],\n",
       "       [6.3, 2.3, 4.4, 1.3],\n",
       "       [5.6, 3. , 4.1, 1.3],\n",
       "       [5.5, 2.5, 4. , 1.3],\n",
       "       [5.5, 2.6, 4.4, 1.2],\n",
       "       [6.1, 3. , 4.6, 1.4],\n",
       "       [5.8, 2.6, 4. , 1.2],\n",
       "       [5. , 2.3, 3.3, 1. ],\n",
       "       [5.6, 2.7, 4.2, 1.3],\n",
       "       [5.7, 3. , 4.2, 1.2],\n",
       "       [5.7, 2.9, 4.2, 1.3],\n",
       "       [6.2, 2.9, 4.3, 1.3],\n",
       "       [5.1, 2.5, 3. , 1.1],\n",
       "       [5.7, 2.8, 4.1, 1.3],\n",
       "       [6.3, 3.3, 6. , 2.5],\n",
       "       [5.8, 2.7, 5.1, 1.9],\n",
       "       [7.1, 3. , 5.9, 2.1],\n",
       "       [6.3, 2.9, 5.6, 1.8],\n",
       "       [6.5, 3. , 5.8, 2.2],\n",
       "       [7.6, 3. , 6.6, 2.1],\n",
       "       [4.9, 2.5, 4.5, 1.7],\n",
       "       [7.3, 2.9, 6.3, 1.8],\n",
       "       [6.7, 2.5, 5.8, 1.8],\n",
       "       [7.2, 3.6, 6.1, 2.5],\n",
       "       [6.5, 3.2, 5.1, 2. ],\n",
       "       [6.4, 2.7, 5.3, 1.9],\n",
       "       [6.8, 3. , 5.5, 2.1],\n",
       "       [5.7, 2.5, 5. , 2. ],\n",
       "       [5.8, 2.8, 5.1, 2.4],\n",
       "       [6.4, 3.2, 5.3, 2.3],\n",
       "       [6.5, 3. , 5.5, 1.8],\n",
       "       [7.7, 3.8, 6.7, 2.2],\n",
       "       [7.7, 2.6, 6.9, 2.3],\n",
       "       [6. , 2.2, 5. , 1.5],\n",
       "       [6.9, 3.2, 5.7, 2.3],\n",
       "       [5.6, 2.8, 4.9, 2. ],\n",
       "       [7.7, 2.8, 6.7, 2. ],\n",
       "       [6.3, 2.7, 4.9, 1.8],\n",
       "       [6.7, 3.3, 5.7, 2.1],\n",
       "       [7.2, 3.2, 6. , 1.8],\n",
       "       [6.2, 2.8, 4.8, 1.8],\n",
       "       [6.1, 3. , 4.9, 1.8],\n",
       "       [6.4, 2.8, 5.6, 2.1],\n",
       "       [7.2, 3. , 5.8, 1.6],\n",
       "       [7.4, 2.8, 6.1, 1.9],\n",
       "       [7.9, 3.8, 6.4, 2. ],\n",
       "       [6.4, 2.8, 5.6, 2.2],\n",
       "       [6.3, 2.8, 5.1, 1.5],\n",
       "       [6.1, 2.6, 5.6, 1.4],\n",
       "       [7.7, 3. , 6.1, 2.3],\n",
       "       [6.3, 3.4, 5.6, 2.4],\n",
       "       [6.4, 3.1, 5.5, 1.8],\n",
       "       [6. , 3. , 4.8, 1.8],\n",
       "       [6.9, 3.1, 5.4, 2.1],\n",
       "       [6.7, 3.1, 5.6, 2.4],\n",
       "       [6.9, 3.1, 5.1, 2.3],\n",
       "       [5.8, 2.7, 5.1, 1.9],\n",
       "       [6.8, 3.2, 5.9, 2.3],\n",
       "       [6.7, 3.3, 5.7, 2.5],\n",
       "       [6.7, 3. , 5.2, 2.3],\n",
       "       [6.3, 2.5, 5. , 1.9],\n",
       "       [6.5, 3. , 5.2, 2. ],\n",
       "       [6.2, 3.4, 5.4, 2.3],\n",
       "       [5.9, 3. , 5.1, 1.8]])"
      ]
     },
     "execution_count": 17,
     "metadata": {},
     "output_type": "execute_result"
    }
   ],
   "source": [
    "x"
   ]
  },
  {
   "cell_type": "code",
   "execution_count": 18,
   "metadata": {},
   "outputs": [
    {
     "data": {
      "text/plain": [
       "array(['Iris-setosa', 'Iris-setosa', 'Iris-setosa', 'Iris-setosa',\n",
       "       'Iris-setosa', 'Iris-setosa', 'Iris-setosa', 'Iris-setosa',\n",
       "       'Iris-setosa', 'Iris-setosa', 'Iris-setosa', 'Iris-setosa',\n",
       "       'Iris-setosa', 'Iris-setosa', 'Iris-setosa', 'Iris-setosa',\n",
       "       'Iris-setosa', 'Iris-setosa', 'Iris-setosa', 'Iris-setosa',\n",
       "       'Iris-setosa', 'Iris-setosa', 'Iris-setosa', 'Iris-setosa',\n",
       "       'Iris-setosa', 'Iris-setosa', 'Iris-setosa', 'Iris-setosa',\n",
       "       'Iris-setosa', 'Iris-setosa', 'Iris-setosa', 'Iris-setosa',\n",
       "       'Iris-setosa', 'Iris-setosa', 'Iris-setosa', 'Iris-setosa',\n",
       "       'Iris-setosa', 'Iris-setosa', 'Iris-setosa', 'Iris-setosa',\n",
       "       'Iris-setosa', 'Iris-setosa', 'Iris-setosa', 'Iris-setosa',\n",
       "       'Iris-setosa', 'Iris-setosa', 'Iris-setosa', 'Iris-setosa',\n",
       "       'Iris-setosa', 'Iris-setosa', 'Iris-versicolor', 'Iris-versicolor',\n",
       "       'Iris-versicolor', 'Iris-versicolor', 'Iris-versicolor',\n",
       "       'Iris-versicolor', 'Iris-versicolor', 'Iris-versicolor',\n",
       "       'Iris-versicolor', 'Iris-versicolor', 'Iris-versicolor',\n",
       "       'Iris-versicolor', 'Iris-versicolor', 'Iris-versicolor',\n",
       "       'Iris-versicolor', 'Iris-versicolor', 'Iris-versicolor',\n",
       "       'Iris-versicolor', 'Iris-versicolor', 'Iris-versicolor',\n",
       "       'Iris-versicolor', 'Iris-versicolor', 'Iris-versicolor',\n",
       "       'Iris-versicolor', 'Iris-versicolor', 'Iris-versicolor',\n",
       "       'Iris-versicolor', 'Iris-versicolor', 'Iris-versicolor',\n",
       "       'Iris-versicolor', 'Iris-versicolor', 'Iris-versicolor',\n",
       "       'Iris-versicolor', 'Iris-versicolor', 'Iris-versicolor',\n",
       "       'Iris-versicolor', 'Iris-versicolor', 'Iris-versicolor',\n",
       "       'Iris-versicolor', 'Iris-versicolor', 'Iris-versicolor',\n",
       "       'Iris-versicolor', 'Iris-versicolor', 'Iris-versicolor',\n",
       "       'Iris-versicolor', 'Iris-versicolor', 'Iris-versicolor',\n",
       "       'Iris-versicolor', 'Iris-versicolor', 'Iris-versicolor',\n",
       "       'Iris-virginica', 'Iris-virginica', 'Iris-virginica',\n",
       "       'Iris-virginica', 'Iris-virginica', 'Iris-virginica',\n",
       "       'Iris-virginica', 'Iris-virginica', 'Iris-virginica',\n",
       "       'Iris-virginica', 'Iris-virginica', 'Iris-virginica',\n",
       "       'Iris-virginica', 'Iris-virginica', 'Iris-virginica',\n",
       "       'Iris-virginica', 'Iris-virginica', 'Iris-virginica',\n",
       "       'Iris-virginica', 'Iris-virginica', 'Iris-virginica',\n",
       "       'Iris-virginica', 'Iris-virginica', 'Iris-virginica',\n",
       "       'Iris-virginica', 'Iris-virginica', 'Iris-virginica',\n",
       "       'Iris-virginica', 'Iris-virginica', 'Iris-virginica',\n",
       "       'Iris-virginica', 'Iris-virginica', 'Iris-virginica',\n",
       "       'Iris-virginica', 'Iris-virginica', 'Iris-virginica',\n",
       "       'Iris-virginica', 'Iris-virginica', 'Iris-virginica',\n",
       "       'Iris-virginica', 'Iris-virginica', 'Iris-virginica',\n",
       "       'Iris-virginica', 'Iris-virginica', 'Iris-virginica',\n",
       "       'Iris-virginica', 'Iris-virginica', 'Iris-virginica',\n",
       "       'Iris-virginica', 'Iris-virginica'], dtype=object)"
      ]
     },
     "execution_count": 18,
     "metadata": {},
     "output_type": "execute_result"
    }
   ],
   "source": [
    "y"
   ]
  },
  {
   "cell_type": "code",
   "execution_count": 20,
   "metadata": {},
   "outputs": [],
   "source": [
    "from sklearn.model_selection import train_test_split\n",
    "xtrain,xtest,ytrain,ytest = train_test_split(x,y,test_size=0.20)"
   ]
  },
  {
   "cell_type": "code",
   "execution_count": 21,
   "metadata": {},
   "outputs": [
    {
     "data": {
      "text/plain": [
       "150"
      ]
     },
     "execution_count": 21,
     "metadata": {},
     "output_type": "execute_result"
    }
   ],
   "source": [
    "len(data)"
   ]
  },
  {
   "cell_type": "code",
   "execution_count": 22,
   "metadata": {},
   "outputs": [],
   "source": [
    "## scale the data\n",
    "from sklearn.preprocessing import StandardScaler\n",
    "sc = StandardScaler()\n",
    "xtrain = sc.fit_transform(xtrain)\n",
    "xtest = sc.fit_transform(xtest)"
   ]
  },
  {
   "cell_type": "code",
   "execution_count": 23,
   "metadata": {
    "collapsed": true
   },
   "outputs": [
    {
     "data": {
      "text/plain": [
       "array([[ 0.63525664, -0.79367202,  0.8148836 ,  0.86547294],\n",
       "       [ 1.4836121 , -0.04766177,  1.16102884,  1.13245688],\n",
       "       [-1.1826479 ,  0.20100832, -1.37736962, -1.53738252],\n",
       "       [ 0.63525664,  0.4496784 ,  0.3533566 ,  0.33150506],\n",
       "       [-0.81906699,  2.68770916, -1.37736962, -1.53738252],\n",
       "       [-1.1826479 , -0.04766177, -1.4350605 , -1.40389055],\n",
       "       [-1.06145426,  0.94701857, -1.37736962, -1.40389055],\n",
       "       [-0.45548608, -1.53968227, -0.05047951, -0.20246282],\n",
       "       [-0.21309881,  1.94169891, -1.26198787, -1.27039858],\n",
       "       [-0.21309881, -1.0423421 , -0.22355214, -0.33595479],\n",
       "       [-1.06145426,  1.19568866, -1.31967875, -0.86992267],\n",
       "       [ 0.75645028, -0.04766177,  1.10333797,  1.26594885],\n",
       "       [ 1.12003119, -0.54500194,  0.52642923,  0.19801309],\n",
       "       [-0.09190517, -1.0423421 ,  0.06490223, -0.06897085],\n",
       "       [ 0.63525664,  0.4496784 ,  0.8148836 ,  1.39944082],\n",
       "       [ 0.51406301, -1.78835236,  0.29566573,  0.06452112],\n",
       "       [ 1.24122483,  0.20100832,  0.87257447,  1.13245688],\n",
       "       [-0.94026063,  1.94169891, -1.31967875, -1.40389055],\n",
       "       [ 0.99883755,  0.69834849,  1.0456471 ,  1.13245688],\n",
       "       [ 0.02928846, -0.04766177,  0.18028398,  0.33150506],\n",
       "       [-0.45548608,  1.19568866, -1.49275137, -1.40389055],\n",
       "       [-0.94026063,  0.69834849, -1.26198787, -1.00341464],\n",
       "       [-0.94026063, -1.29101219, -0.51200651, -0.20246282],\n",
       "       [-0.09190517, -0.79367202,  0.69950185,  0.86547294],\n",
       "       [ 2.21077392, -0.04766177,  1.27641059,  1.39944082],\n",
       "       [ 1.12003119, -0.04766177,  0.93026535,  1.13245688],\n",
       "       [-1.66742245, -1.78835236, -1.49275137, -1.27039858],\n",
       "       [-1.30384154,  0.94701857, -1.14660613, -1.40389055],\n",
       "       [-0.09190517, -0.79367202,  0.69950185,  0.86547294],\n",
       "       [ 0.51406301, -1.29101219,  0.5841201 ,  0.33150506],\n",
       "       [ 0.99883755,  0.69834849,  1.0456471 ,  1.66642476],\n",
       "       [-1.06145426,  0.94701857, -1.31967875, -1.13690661],\n",
       "       [-1.06145426,  1.44435874, -1.4350605 , -1.40389055],\n",
       "       [-1.06145426,  0.4496784 , -1.55044225, -1.40389055],\n",
       "       [-0.81906699, -0.79367202,  0.00721136,  0.19801309],\n",
       "       [-0.94026063,  1.94169891, -1.14660613, -1.13690661],\n",
       "       [ 1.72599937, -0.29633185,  1.39179234,  0.73198097],\n",
       "       [-1.30384154, -0.04766177, -1.4350605 , -1.53738252],\n",
       "       [-0.21309881, -0.54500194,  0.12259311,  0.06452112],\n",
       "       [ 0.27167573, -0.04766177,  0.41104748,  0.19801309],\n",
       "       [ 2.21077392,  1.94169891,  1.62255584,  1.26594885],\n",
       "       [-1.06145426,  0.69834849, -1.4350605 , -1.40389055],\n",
       "       [-1.90980972, -0.04766177, -1.60813312, -1.53738252],\n",
       "       [-0.09190517, -0.79367202,  0.00721136, -0.06897085],\n",
       "       [-0.21309881, -0.29633185,  0.18028398,  0.06452112],\n",
       "       [ 0.63525664, -0.54500194,  0.98795622,  1.26594885],\n",
       "       [-0.21309881, -1.29101219,  0.64181098,  0.99896491],\n",
       "       [ 0.99883755, -0.04766177,  0.75719272,  1.39944082],\n",
       "       [-1.30384154, -0.04766177, -1.4350605 , -1.27039858],\n",
       "       [-1.1826479 , -1.29101219,  0.3533566 ,  0.598489  ],\n",
       "       [ 1.12003119,  0.4496784 ,  1.16102884,  1.39944082],\n",
       "       [ 0.39286937, -0.54500194,  0.52642923,  0.73198097],\n",
       "       [-1.1826479 , -1.53968227, -0.33893389, -0.33595479],\n",
       "       [ 0.51406301, -0.54500194,  0.69950185,  0.33150506],\n",
       "       [-1.06145426, -0.04766177, -1.31967875, -1.40389055],\n",
       "       [ 0.39286937, -2.03702244,  0.3533566 ,  0.33150506],\n",
       "       [ 0.51406301, -0.29633185,  0.98795622,  0.73198097],\n",
       "       [-0.94026063,  1.69302883, -1.37736962, -1.13690661],\n",
       "       [-0.45548608, -1.53968227, -0.10817039, -0.33595479],\n",
       "       [ 0.1504821 , -0.29633185,  0.3533566 ,  0.33150506],\n",
       "       [-0.57667972,  0.94701857, -1.37736962, -1.13690661],\n",
       "       [-0.57667972,  0.94701857, -1.26198787, -1.40389055],\n",
       "       [ 0.1504821 , -2.03702244,  0.64181098,  0.33150506],\n",
       "       [-0.33429245, -0.04766177,  0.12259311,  0.06452112],\n",
       "       [-0.33429245, -0.54500194,  0.5841201 ,  0.99896491],\n",
       "       [-1.30384154,  0.20100832, -1.31967875, -1.40389055],\n",
       "       [ 0.51406301,  0.69834849,  1.21871972,  1.66642476],\n",
       "       [ 0.02928846,  0.4496784 ,  0.52642923,  0.73198097],\n",
       "       [ 0.51406301,  0.69834849,  0.46873835,  0.46499703],\n",
       "       [-1.06145426, -1.78835236, -0.33893389, -0.33595479],\n",
       "       [ 0.27167573, -1.0423421 ,  0.98795622,  0.19801309],\n",
       "       [ 1.24122483,  0.20100832,  0.69950185,  1.39944082],\n",
       "       [ 0.39286937,  0.94701857,  0.87257447,  1.39944082],\n",
       "       [-0.33429245, -1.29101219,  0.00721136, -0.20246282],\n",
       "       [ 0.1504821 , -0.79367202,  0.69950185,  0.46499703],\n",
       "       [ 2.08958028, -0.04766177,  1.56486496,  1.13245688],\n",
       "       [ 0.75645028, -0.04766177,  0.75719272,  0.99896491],\n",
       "       [ 1.36241846,  0.4496784 ,  0.46873835,  0.19801309],\n",
       "       [-0.57667972, -0.04766177,  0.3533566 ,  0.33150506],\n",
       "       [-0.81906699,  0.94701857, -1.4350605 , -1.40389055],\n",
       "       [ 0.99883755, -0.04766177,  0.64181098,  0.598489  ],\n",
       "       [ 0.27167573, -0.29633185,  0.46873835,  0.19801309],\n",
       "       [-0.57667972,  2.19036899, -1.49275137, -1.13690661],\n",
       "       [ 0.87764392, -0.29633185,  0.41104748,  0.06452112],\n",
       "       [ 0.63525664,  0.20100832,  0.93026535,  0.73198097],\n",
       "       [ 0.27167573, -0.54500194,  0.06490223,  0.06452112],\n",
       "       [-0.33429245, -0.04766177,  0.3533566 ,  0.33150506],\n",
       "       [ 2.21077392, -0.54500194,  1.62255584,  0.99896491],\n",
       "       [ 2.21077392, -1.0423421 ,  1.73793759,  1.39944082],\n",
       "       [-1.42503517,  0.4496784 , -1.49275137, -1.40389055],\n",
       "       [ 0.51406301, -1.29101219,  0.64181098,  0.86547294],\n",
       "       [-1.1826479 ,  0.20100832, -1.37736962, -1.53738252],\n",
       "       [-0.45548608,  2.93637925, -1.4350605 , -1.40389055],\n",
       "       [ 0.99883755, -1.29101219,  1.10333797,  0.73198097],\n",
       "       [ 0.02928846, -0.04766177,  0.69950185,  0.73198097],\n",
       "       [-1.54622881,  0.4496784 , -1.4350605 , -1.40389055],\n",
       "       [ 0.1504821 ,  0.94701857,  0.3533566 ,  0.46499703],\n",
       "       [-0.09190517, -0.79367202,  0.12259311, -0.33595479],\n",
       "       [ 0.63525664, -0.54500194,  0.98795622,  1.13245688],\n",
       "       [ 1.24122483,  0.20100832,  0.5841201 ,  0.33150506],\n",
       "       [-0.33429245, -0.29633185, -0.16586126,  0.06452112],\n",
       "       [ 0.75645028, -0.04766177,  0.93026535,  0.73198097],\n",
       "       [ 0.51406301,  0.94701857,  0.98795622,  1.53293279],\n",
       "       [-1.1826479 ,  0.20100832, -1.37736962, -1.53738252],\n",
       "       [-0.21309881, -0.54500194,  0.3533566 ,  0.06452112],\n",
       "       [ 0.99883755,  0.20100832,  0.98795622,  1.53293279],\n",
       "       [ 1.60480573,  0.4496784 ,  1.21871972,  0.73198097],\n",
       "       [ 2.45316119,  1.94169891,  1.44948322,  0.99896491],\n",
       "       [-0.94026063,  1.19568866, -1.4350605 , -1.40389055],\n",
       "       [-1.06145426,  1.19568866, -1.49275137, -1.27039858],\n",
       "       [-1.78861608,  0.4496784 , -1.49275137, -1.40389055],\n",
       "       [ 0.99883755,  0.20100832,  0.46873835,  0.33150506],\n",
       "       [-0.45548608, -1.0423421 ,  0.29566573, -0.06897085],\n",
       "       [ 0.75645028, -0.54500194,  0.41104748,  0.33150506],\n",
       "       [ 0.63525664, -0.29633185,  0.23797486,  0.06452112],\n",
       "       [-1.54622881,  0.94701857, -1.4350605 , -1.27039858],\n",
       "       [-0.33429245, -0.79367202,  0.18028398,  0.06452112],\n",
       "       [-1.78861608, -0.04766177, -1.49275137, -1.40389055],\n",
       "       [ 0.75645028,  0.4496784 ,  0.69950185,  0.99896491],\n",
       "       [ 0.1504821 , -2.03702244,  0.06490223, -0.33595479]])"
      ]
     },
     "execution_count": 23,
     "metadata": {},
     "output_type": "execute_result"
    }
   ],
   "source": [
    "xtrain"
   ]
  },
  {
   "cell_type": "code",
   "execution_count": 26,
   "metadata": {},
   "outputs": [],
   "source": [
    "#### Build the Model\n",
    "from sklearn.neighbors import KNeighborsClassifier\n",
    "model = KNeighborsClassifier(n_neighbors = 5)"
   ]
  },
  {
   "cell_type": "code",
   "execution_count": 27,
   "metadata": {},
   "outputs": [
    {
     "data": {
      "text/plain": [
       "KNeighborsClassifier()"
      ]
     },
     "execution_count": 27,
     "metadata": {},
     "output_type": "execute_result"
    }
   ],
   "source": [
    "### Train the model\n",
    "model.fit(xtrain,ytrain)"
   ]
  },
  {
   "cell_type": "code",
   "execution_count": 28,
   "metadata": {},
   "outputs": [
    {
     "data": {
      "text/plain": [
       "array(['Iris-setosa', 'Iris-versicolor', 'Iris-setosa', 'Iris-versicolor',\n",
       "       'Iris-virginica', 'Iris-setosa', 'Iris-setosa', 'Iris-virginica',\n",
       "       'Iris-setosa', 'Iris-virginica', 'Iris-virginica', 'Iris-setosa',\n",
       "       'Iris-virginica', 'Iris-setosa', 'Iris-versicolor',\n",
       "       'Iris-versicolor', 'Iris-virginica', 'Iris-setosa',\n",
       "       'Iris-versicolor', 'Iris-versicolor', 'Iris-setosa', 'Iris-setosa',\n",
       "       'Iris-virginica', 'Iris-setosa', 'Iris-setosa', 'Iris-versicolor',\n",
       "       'Iris-versicolor', 'Iris-setosa', 'Iris-setosa', 'Iris-virginica'],\n",
       "      dtype=object)"
      ]
     },
     "execution_count": 28,
     "metadata": {},
     "output_type": "execute_result"
    }
   ],
   "source": [
    "### Prediction\n",
    "ypred = model.predict(xtest)\n",
    "ypred"
   ]
  },
  {
   "cell_type": "code",
   "execution_count": 29,
   "metadata": {},
   "outputs": [
    {
     "data": {
      "text/plain": [
       "array(['Iris-setosa', 'Iris-versicolor', 'Iris-setosa', 'Iris-versicolor',\n",
       "       'Iris-virginica', 'Iris-setosa', 'Iris-setosa', 'Iris-virginica',\n",
       "       'Iris-setosa', 'Iris-virginica', 'Iris-virginica', 'Iris-setosa',\n",
       "       'Iris-virginica', 'Iris-setosa', 'Iris-versicolor',\n",
       "       'Iris-versicolor', 'Iris-virginica', 'Iris-setosa',\n",
       "       'Iris-versicolor', 'Iris-versicolor', 'Iris-setosa', 'Iris-setosa',\n",
       "       'Iris-virginica', 'Iris-setosa', 'Iris-setosa', 'Iris-versicolor',\n",
       "       'Iris-versicolor', 'Iris-setosa', 'Iris-setosa', 'Iris-virginica'],\n",
       "      dtype=object)"
      ]
     },
     "execution_count": 29,
     "metadata": {},
     "output_type": "execute_result"
    }
   ],
   "source": [
    "ytest"
   ]
  },
  {
   "cell_type": "code",
   "execution_count": 30,
   "metadata": {},
   "outputs": [],
   "source": [
    "from sklearn.metrics import confusion_matrix,accuracy_score\n",
    "cm = confusion_matrix(ytest,ypred)\n",
    "accu = accuracy_score(ytest,ypred)"
   ]
  },
  {
   "cell_type": "code",
   "execution_count": 31,
   "metadata": {},
   "outputs": [
    {
     "data": {
      "text/plain": [
       "array([[14,  0,  0],\n",
       "       [ 0,  8,  0],\n",
       "       [ 0,  0,  8]], dtype=int64)"
      ]
     },
     "execution_count": 31,
     "metadata": {},
     "output_type": "execute_result"
    }
   ],
   "source": [
    "cm"
   ]
  },
  {
   "cell_type": "code",
   "execution_count": 32,
   "metadata": {},
   "outputs": [
    {
     "data": {
      "text/plain": [
       "1.0"
      ]
     },
     "execution_count": 32,
     "metadata": {},
     "output_type": "execute_result"
    }
   ],
   "source": [
    "accu"
   ]
  },
  {
   "cell_type": "code",
   "execution_count": 33,
   "metadata": {},
   "outputs": [
    {
     "data": {
      "text/plain": [
       "array(['Iris-virginica'], dtype=object)"
      ]
     },
     "execution_count": 33,
     "metadata": {},
     "output_type": "execute_result"
    }
   ],
   "source": [
    "model.predict([[1.2,4.5,3.4,5.6]])"
   ]
  },
  {
   "cell_type": "code",
   "execution_count": null,
   "metadata": {},
   "outputs": [],
   "source": []
  }
 ],
 "metadata": {
  "kernelspec": {
   "display_name": "Python 3",
   "language": "python",
   "name": "python3"
  },
  "language_info": {
   "codemirror_mode": {
    "name": "ipython",
    "version": 3
   },
   "file_extension": ".py",
   "mimetype": "text/x-python",
   "name": "python",
   "nbconvert_exporter": "python",
   "pygments_lexer": "ipython3",
   "version": "3.7.3"
  }
 },
 "nbformat": 4,
 "nbformat_minor": 4
}
